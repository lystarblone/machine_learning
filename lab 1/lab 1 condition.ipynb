{
 "cells": [
  {
   "cell_type": "markdown",
   "metadata": {},
   "source": [
    "Практическое занятие 1 Алгоритм обучения персептрона"
   ]
  },
  {
   "cell_type": "markdown",
   "metadata": {},
   "source": [
    "В первом фрагменте кода показан код инициализации, в котором мы сначала импортируем библиотеку для рандомизации, а затем инициализируем переменные для обучающих примеров и весов персептрона."
   ]
  },
  {
   "cell_type": "code",
   "execution_count": 1,
   "metadata": {},
   "outputs": [
    {
     "name": "stdout",
     "output_type": "stream",
     "text": [
      "w0 =  0.20 , w1 = -0.60 , w2 =  0.25\n"
     ]
    }
   ],
   "source": [
    "import random\n",
    "def show_learning(w):\n",
    "    print('w0 =', '%5.2f' % w[0], ', w1 =', '%5.2f' % w[1], ', w2 =', '%5.2f' % w[2])\n",
    "# Определяем переменные, необходимые для процесса обучения\n",
    "random.seed(7) # Чтобы обеспечить повторяемость\n",
    "LEARNING_RATE = 0.1\n",
    "index_list = [0, 1, 2, 3] # Чтобы сделать порядок случайным\n",
    "# Определяем обучающие примеры \n",
    "x_train = [(1.0, -1.0, -1.0), (1.0, -1.0, 1.0),(1.0, 1.0, -1.0), (1.0, 1.0, 1.0)] # Входы\n",
    "y_train = [1.0, 1.0, 1.0, -1.0] # Выход (истина)\n",
    "# Определяем веса персептрона\n",
    "w = [0.2, -0.6, 0.25] # Инициализируем «случайными» числами\n",
    "# Печатаем начальные значения весов\n",
    "show_learning(w)"
   ]
  },
  {
   "cell_type": "markdown",
   "metadata": {},
   "source": [
    "Обратите внимание, что каждый входной обучающий пример состоит из трех значений, но первое значение всегда равно 1,0, потому что это смещение (bias). "
   ]
  },
  {
   "cell_type": "markdown",
   "metadata": {},
   "source": [
    "Следующий фрагмент кода описывает вычисление выходных данных персептрона."
   ]
  },
  {
   "cell_type": "code",
   "execution_count": 6,
   "metadata": {},
   "outputs": [],
   "source": [
    "# Значение первого элемента вектора x должно быть равно 1\n",
    "# Для нейрона с n входами длины w and x должны быть равны n+1\n",
    "def compute_output(w, x):\n",
    "    z = 0.0\n",
    "    for i in range(len(w)):\n",
    "        z += x[i] * w[i] # Вычисление суммы взвешенных входов\n",
    "    if z < 0: # Применение знаковой функции\n",
    "        return -1\n",
    "    else:\n",
    "        return 1\n",
    "\n",
    "\n"
   ]
  },
  {
   "cell_type": "markdown",
   "metadata": {},
   "source": [
    "Последний фрагмент кода содержит цикл обучения персептрона. Это вложенный цикл, в котором внутренний цикл проходит через все четыре обучающих примера в случайном порядке. Для каждого примера он вычисляет выходные данные, корректирует и печатает веса, если выходные данные неверны. Внешний цикл проверяет, выдал ли персептрон правильный вывод для всех четырех примеров, и если да, то завершает программу."
   ]
  },
  {
   "cell_type": "code",
   "execution_count": 7,
   "metadata": {},
   "outputs": [],
   "source": [
    "# Цикл обучения персептрона\n",
    "all_correct = False\n",
    "while not all_correct:\n",
    "    all_correct = True\n",
    "    random.shuffle(index_list) # Сделать порядок случайным\n",
    "    for i in index_list:\n",
    "        x = x_train[i]\n",
    "        y = y_train[i]\n",
    "        p_out = compute_output(w, x) # Функция персептрона\n",
    "\n",
    "        if y != p_out: # Обновить веса, когда неправильно\n",
    "            for j in range(0, len(w)):\n",
    "                w[j] += (y * LEARNING_RATE * x[j])\n",
    "            all_correct = False\n",
    "            show_learning(w) # Показать обновлённые веса\n"
   ]
  }
 ],
 "metadata": {
  "kernelspec": {
   "display_name": "Python 3 (ipykernel)",
   "language": "python",
   "name": "python3"
  },
  "language_info": {
   "codemirror_mode": {
    "name": "ipython",
    "version": 3
   },
   "file_extension": ".py",
   "mimetype": "text/x-python",
   "name": "python",
   "nbconvert_exporter": "python",
   "pygments_lexer": "ipython3",
   "version": "3.9.12"
  }
 },
 "nbformat": 4,
 "nbformat_minor": 4
}
